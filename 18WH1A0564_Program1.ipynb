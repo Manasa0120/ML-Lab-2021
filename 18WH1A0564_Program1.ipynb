{
  "nbformat": 4,
  "nbformat_minor": 0,
  "metadata": {
    "colab": {
      "name": "18WH1A0564_Program1.ipynb",
      "provenance": [],
      "authorship_tag": "ABX9TyP4BmdMlkEI0Tx170mKtetO",
      "include_colab_link": true
    },
    "kernelspec": {
      "name": "python3",
      "display_name": "Python 3"
    },
    "language_info": {
      "name": "python"
    }
  },
  "cells": [
    {
      "cell_type": "markdown",
      "metadata": {
        "id": "view-in-github",
        "colab_type": "text"
      },
      "source": [
        "<a href=\"https://colab.research.google.com/github/Manasa0120/ML-Lab-2021/blob/main/18WH1A0564_Program1.ipynb\" target=\"_parent\"><img src=\"https://colab.research.google.com/assets/colab-badge.svg\" alt=\"Open In Colab\"/></a>"
      ]
    },
    {
      "cell_type": "code",
      "metadata": {
        "id": "qdd-pYRAz2WU",
        "colab": {
          "base_uri": "https://localhost:8080/"
        },
        "outputId": "a4bcb863-eee2-4f75-8873-a1bf2facf12f"
      },
      "source": [
        "probAbsentAndFriday = 0.03\n",
        "probFriday = 0.2\n",
        "bayesResult = (probAbsentAndFriday / probFriday)\n",
        "print (bayesResult * 100)"
      ],
      "execution_count": 1,
      "outputs": [
        {
          "output_type": "stream",
          "text": [
            "15.0\n"
          ],
          "name": "stdout"
        }
      ]
    }
  ]
}