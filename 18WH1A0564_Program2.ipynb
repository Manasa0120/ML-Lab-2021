{
  "nbformat": 4,
  "nbformat_minor": 0,
  "metadata": {
    "colab": {
      "name": "18WH1A0564_Program2.ipynb",
      "provenance": [],
      "authorship_tag": "ABX9TyPv12tgIaHC5euDttYHVmPd",
      "include_colab_link": true
    },
    "kernelspec": {
      "name": "python3",
      "display_name": "Python 3"
    },
    "language_info": {
      "name": "python"
    }
  },
  "cells": [
    {
      "cell_type": "markdown",
      "metadata": {
        "id": "view-in-github",
        "colab_type": "text"
      },
      "source": [
        "<a href=\"https://colab.research.google.com/github/Manasa0120/ML-Lab-2021/blob/main/18WH1A0564_Program2.ipynb\" target=\"_parent\"><img src=\"https://colab.research.google.com/assets/colab-badge.svg\" alt=\"Open In Colab\"/></a>"
      ]
    },
    {
      "cell_type": "code",
      "metadata": {
        "colab": {
          "base_uri": "https://localhost:8080/"
        },
        "id": "o8PWmU_R5ViF",
        "outputId": "30f0e85f-0c26-48e7-a7d0-912c707c25e9"
      },
      "source": [
        "!pip install db-sqlite3\n",
        "import sqlite3\n",
        "conn = sqlite3.connect ('exp2.db')\n",
        "cur = conn.cursor()\n",
        "print (\"DB Created Successfully\")"
      ],
      "execution_count": 1,
      "outputs": [
        {
          "output_type": "stream",
          "text": [
            "Collecting db-sqlite3\n",
            "  Downloading https://files.pythonhosted.org/packages/ff/00/e1f3d7bf1e0bff7c0574c0d5535c041e139d4ce43db196147e4c62f52ed5/db-sqlite3-0.0.1.tar.gz\n",
            "Collecting db\n",
            "  Downloading https://files.pythonhosted.org/packages/a9/22/f65d64c83e63790b3273c6adb3bff338ad594f46d84b41bd1f94593b40a6/db-0.1.1.tar.gz\n",
            "Collecting antiorm\n",
            "\u001b[?25l  Downloading https://files.pythonhosted.org/packages/0b/f8/71baa4824d9666c1be51d117119579a97f461ddbded48b2e01a6ad0554b5/antiorm-1.2.1.tar.gz (171kB)\n",
            "\u001b[K     |████████████████████████████████| 174kB 7.0MB/s \n",
            "\u001b[?25hBuilding wheels for collected packages: db-sqlite3, db, antiorm\n",
            "  Building wheel for db-sqlite3 (setup.py) ... \u001b[?25l\u001b[?25hdone\n",
            "  Created wheel for db-sqlite3: filename=db_sqlite3-0.0.1-cp37-none-any.whl size=1796 sha256=ad1be9bfa01c54c6b7dcc8ce1d1aceb456c87c0e545d7fb8a1fb49fd62a4f216\n",
            "  Stored in directory: /root/.cache/pip/wheels/e0/f8/cb/08e3a3a63bdea9ac3a0cccd140636b6cf94e3fb7df1070b12e\n",
            "  Building wheel for db (setup.py) ... \u001b[?25l\u001b[?25hdone\n",
            "  Created wheel for db: filename=db-0.1.1-cp37-none-any.whl size=3894 sha256=e2de436a5ac121c98e8dc4db8b07da1868a962b134f61e7b88735fb52a7fd7b5\n",
            "  Stored in directory: /root/.cache/pip/wheels/30/eb/ba/237fa002d1d1b2e73cedcefd26a9db37c4b72c7e5156ea0501\n",
            "  Building wheel for antiorm (setup.py) ... \u001b[?25l\u001b[?25hdone\n",
            "  Created wheel for antiorm: filename=antiorm-1.2.1-cp37-none-any.whl size=31668 sha256=a6b81c69787cb85bdc1cff8794f9752ea59697ab5b8f26cd52d2dee5ee1a3089\n",
            "  Stored in directory: /root/.cache/pip/wheels/b0/91/4d/f8fe808786ff1cda9e7e99e1b1bbda9196ab26786017965313\n",
            "Successfully built db-sqlite3 db antiorm\n",
            "Installing collected packages: antiorm, db, db-sqlite3\n",
            "Successfully installed antiorm-1.2.1 db-0.1.1 db-sqlite3-0.0.1\n",
            "DB Created Successfully\n"
          ],
          "name": "stdout"
        }
      ]
    },
    {
      "cell_type": "code",
      "metadata": {
        "colab": {
          "base_uri": "https://localhost:8080/"
        },
        "id": "tqiGdPSZ5e8e",
        "outputId": "35c21b06-ba0a-49a1-dc52-c49584e05018"
      },
      "source": [
        "conn.execute('''CREATE TABLE COMPANY1\n",
        "         (ID INT PRIMARY KEY     NOT NULL,\n",
        "         NAME           TEXT    NOT NULL,\n",
        "         AGE            INT     NOT NULL,\n",
        "         ADDRESS        CHAR(50),\n",
        "         SALARY         REAL);''')\n",
        "print (\"Table created successfully\");"
      ],
      "execution_count": 2,
      "outputs": [
        {
          "output_type": "stream",
          "text": [
            "Table created successfully\n"
          ],
          "name": "stdout"
        }
      ]
    },
    {
      "cell_type": "code",
      "metadata": {
        "colab": {
          "base_uri": "https://localhost:8080/"
        },
        "id": "OCsZhuMA5hGh",
        "outputId": "1454e965-56e5-4868-c7bd-173fb3e8ad00"
      },
      "source": [
        "conn.execute(\"INSERT INTO COMPANY1 (ID,NAME,AGE,ADDRESS,SALARY) \\\n",
        "      VALUES (1, 'Paul', 32, 'Texas', 20000.00 )\");\n",
        "\n",
        "conn.execute(\"INSERT INTO COMPANY1 (ID,NAME,AGE,ADDRESS,SALARY) \\\n",
        "      VALUES (2, 'Perry', 27, 'Houston', 15000.00 )\");\n",
        "\n",
        "conn.execute(\"INSERT INTO COMPANY1 (ID,NAME,AGE,ADDRESS,SALARY) \\\n",
        "      VALUES (3, 'Berry', 25, 'Hawai', 20000.00 )\");\n",
        "\n",
        "conn.execute(\"INSERT INTO COMPANY1 (ID,NAME,AGE,ADDRESS,SALARY) \\\n",
        "      VALUES (4, 'Terry', 31, 'Rich-Mond ', 65000.00 )\");\n",
        "\n",
        "conn.commit()\n",
        "print (\"Records created successfully\");"
      ],
      "execution_count": 3,
      "outputs": [
        {
          "output_type": "stream",
          "text": [
            "Records created successfully\n"
          ],
          "name": "stdout"
        }
      ]
    },
    {
      "cell_type": "code",
      "metadata": {
        "colab": {
          "base_uri": "https://localhost:8080/"
        },
        "id": "ZzuMqqfY5kOI",
        "outputId": "5a5f5bb6-c1be-41fa-e63e-836a447c80e4"
      },
      "source": [
        "for row in conn.execute('select * from COMPANY1'):\n",
        "        print(row)"
      ],
      "execution_count": 4,
      "outputs": [
        {
          "output_type": "stream",
          "text": [
            "(1, 'Paul', 32, 'Texas', 20000.0)\n",
            "(2, 'Perry', 27, 'Houston', 15000.0)\n",
            "(3, 'Berry', 25, 'Hawai', 20000.0)\n",
            "(4, 'Terry', 31, 'Rich-Mond ', 65000.0)\n"
          ],
          "name": "stdout"
        }
      ]
    }
  ]
}